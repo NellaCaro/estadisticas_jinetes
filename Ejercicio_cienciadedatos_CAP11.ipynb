{
  "nbformat": 4,
  "nbformat_minor": 0,
  "metadata": {
    "colab": {
      "provenance": []
    },
    "kernelspec": {
      "name": "python3",
      "display_name": "Python 3"
    },
    "language_info": {
      "name": "python"
    }
  },
  "cells": [
    {
      "cell_type": "markdown",
      "source": [
        "Estadisticas de Jinetes 2019-2024 + CAP 11 Machine Learning"
      ],
      "metadata": {
        "id": "7KtBEJlnAwFD"
      }
    },
    {
      "cell_type": "code",
      "source": [
        "import requests\n",
        "from bs4 import BeautifulSoup\n",
        "import pandas as pd\n",
        "import seaborn as sns\n",
        "import matplotlib.pyplot as plt\n",
        "import re\n",
        "import numpy as np"
      ],
      "metadata": {
        "id": "heQ6gFdV_X4z"
      },
      "execution_count": 12,
      "outputs": []
    },
    {
      "cell_type": "markdown",
      "source": [
        "Importar datos desde el sitio web"
      ],
      "metadata": {
        "id": "QE-cYSz9A89A"
      }
    },
    {
      "cell_type": "code",
      "source": [
        "url = 'http://equijar.com/index.php?route=estadisticas/jinetes&anno='\n",
        "\n",
        "headers = {\n",
        "    'User-Agent': 'Mozilla/5.0 (Windows NT 10.0; Win64; x64) AppleWebKit/537.36 (KHTML, like Gecko) Chrome/58.0.3029.110 Safari/537.3'\n",
        "}\n",
        "\n",
        "anos = ['2019', '2020', '2021', '2022', '2023', '2024']\n",
        "response = [requests.get(url + ano, headers=headers).content for ano in anos]"
      ],
      "metadata": {
        "id": "D4ntuIdR_aJ-"
      },
      "execution_count": 13,
      "outputs": []
    },
    {
      "cell_type": "code",
      "source": [
        "# Parsear el HTML\n",
        "soup = []\n",
        "for i in range(len(response)):\n",
        "    soup_data = BeautifulSoup(response[i], 'html.parser')\n",
        "    soup.append(soup_data)\n",
        "\n",
        "# Encontrar la tabla que contiene los datos de los jinetes\n",
        "table_2019 = soup[0].find('table', class_='custom')\n",
        "table_2020 = soup[1].find('table', class_='custom')\n",
        "table_2021 = soup[2].find('table', class_='custom')\n",
        "table_2022 = soup[3].find('table', class_='custom')\n",
        "table_2023 = soup[4].find('table', class_='custom')\n",
        "table_2024 = soup[5].find('table', class_='custom')\n",
        "\n",
        "headers = []\n",
        "for th in table_2019.find_all('th'):\n",
        "    headers.append(th.text.strip())\n",
        "\n",
        "data_2019 = []\n",
        "data_2020 = []\n",
        "data_2021 = []\n",
        "data_2022 = []\n",
        "data_2023 = []\n",
        "data_2024 = []\n",
        "\n",
        "for row in table_2019.find('tbody').find_all('tr'):\n",
        "    cols = row.find_all('td')\n",
        "    cols = [ele.text.strip() for ele in cols]\n",
        "    data_2019.append(cols)\n",
        "\n",
        "for row in table_2020.find('tbody').find_all('tr'):\n",
        "    cols = row.find_all('td')\n",
        "    cols = [ele.text.strip() for ele in cols]\n",
        "    data_2020.append(cols)\n",
        "\n",
        "for row in table_2021.find('tbody').find_all('tr'):\n",
        "    cols = row.find_all('td')\n",
        "    cols = [ele.text.strip() for ele in cols]\n",
        "    data_2021.append(cols)\n",
        "\n",
        "for row in table_2022.find('tbody').find_all('tr'):\n",
        "    cols = row.find_all('td')\n",
        "    cols = [ele.text.strip() for ele in cols]\n",
        "    data_2022.append(cols)\n",
        "\n",
        "for row in table_2023.find('tbody').find_all('tr'):\n",
        "    cols = row.find_all('td')\n",
        "    cols = [ele.text.strip() for ele in cols]\n",
        "    data_2023.append(cols)\n",
        "\n",
        "for row in table_2024.find('tbody').find_all('tr'):\n",
        "    cols = row.find_all('td')\n",
        "    cols = [ele.text.strip() for ele in cols]\n",
        "    data_2024.append(cols)\n",
        "\n",
        "# Eliminar las celdas vacías\n",
        "for i in range(len(data_2019)):\n",
        "    data_2019[i].remove('')\n",
        "\n",
        "for i in range(len(data_2020)):\n",
        "    data_2020[i].remove('')\n",
        "\n",
        "for i in range(len(data_2021)):\n",
        "    data_2021[i].remove('')\n",
        "\n",
        "for i in range(len(data_2022)):\n",
        "    data_2022[i].remove('')\n",
        "\n",
        "for i in range(len(data_2023)):\n",
        "    data_2023[i].remove('')\n",
        "\n",
        "for i in range(len(data_2024)):\n",
        "    data_2024[i].remove('')\n",
        "\n",
        "df_2019 = pd.DataFrame(data_2019, columns=headers)\n",
        "df_2020 = pd.DataFrame(data_2020, columns=headers)\n",
        "df_2021 = pd.DataFrame(data_2021, columns=headers)\n",
        "df_2022 = pd.DataFrame(data_2022, columns=headers)\n",
        "df_2023 = pd.DataFrame(data_2023, columns=headers)\n",
        "df_2024 = pd.DataFrame(data_2024, columns=headers)"
      ],
      "metadata": {
        "colab": {
          "base_uri": "https://localhost:8080/"
        },
        "id": "Ko7jZEhM_aVl",
        "outputId": "24e52d8d-42ac-419b-f145-afb3d025dcd2"
      },
      "execution_count": 14,
      "outputs": [
        {
          "output_type": "stream",
          "name": "stderr",
          "text": [
            "/usr/lib/python3.10/html/parser.py:170: XMLParsedAsHTMLWarning: It looks like you're parsing an XML document using an HTML parser. If this really is an HTML document (maybe it's XHTML?), you can ignore or filter this warning. If it's XML, you should know that using an XML parser will be more reliable. To parse this document as XML, make sure you have the lxml package installed, and pass the keyword argument `features=\"xml\"` into the BeautifulSoup constructor.\n",
            "  k = self.parse_starttag(i)\n"
          ]
        }
      ]
    },
    {
      "cell_type": "markdown",
      "source": [
        "Separar y Añadir Columnas Nuevas"
      ],
      "metadata": {
        "id": "c1AFDi07BHtQ"
      }
    },
    {
      "cell_type": "code",
      "source": [
        "# Función para separar victorias y porcentaje\n",
        "def separar_victorias(valor):\n",
        "    # Buscar el número total y el porcentaje usando una expresión regular\n",
        "    match = re.match(r'(\\d+)\\s*\\(([\\d.]+)%\\)', valor)\n",
        "    if match:\n",
        "        victorias_totales = int(match.group(1))\n",
        "        porcentaje = float(match.group(2))\n",
        "        return victorias_totales, porcentaje\n",
        "    else:\n",
        "        return None, None\n",
        "\n",
        "# Añadir columnas totales int y totales porcentaje\n",
        "# Victorias\n",
        "df_2019['Victorias_Totales'], df_2019['Porcentaje_Victorias'] = zip(*df_2019['Victorias'].apply(separar_victorias))\n",
        "df_2020['Victorias_Totales'], df_2020['Porcentaje_Victorias'] = zip(*df_2020['Victorias'].apply(separar_victorias))\n",
        "df_2021['Victorias_Totales'], df_2021['Porcentaje_Victorias'] = zip(*df_2021['Victorias'].apply(separar_victorias))\n",
        "df_2022['Victorias_Totales'], df_2022['Porcentaje_Victorias'] = zip(*df_2022['Victorias'].apply(separar_victorias))\n",
        "df_2023['Victorias_Totales'], df_2023['Porcentaje_Victorias'] = zip(*df_2023['Victorias'].apply(separar_victorias))\n",
        "df_2024['Victorias_Totales'], df_2024['Porcentaje_Victorias'] = zip(*df_2024['Victorias'].apply(separar_victorias))\n",
        "\n",
        "# Segundos\n",
        "df_2019['Segundos_Totales'], df_2019['Porcentaje_Segundos'] = zip(*df_2019['Victorias'].apply(separar_victorias))\n",
        "df_2020['Segundos_Totales'], df_2020['Porcentaje_Segundos'] = zip(*df_2020['Victorias'].apply(separar_victorias))\n",
        "df_2021['Segundos_Totales'], df_2021['Porcentaje_Segundos'] = zip(*df_2021['Victorias'].apply(separar_victorias))\n",
        "df_2022['Segundos_Totales'], df_2022['Porcentaje_Segundos'] = zip(*df_2022['Victorias'].apply(separar_victorias))\n",
        "df_2023['Segundos_Totales'], df_2023['Porcentaje_Segundos'] = zip(*df_2023['Victorias'].apply(separar_victorias))\n",
        "df_2024['Segundos_Totales'], df_2024['Porcentaje_Segundos'] = zip(*df_2024['Victorias'].apply(separar_victorias))\n",
        "\n",
        "# Terceros\n",
        "df_2019['Terceros_Totales'], df_2019['Porcentaje_Terceros'] = zip(*df_2019['Victorias'].apply(separar_victorias))\n",
        "df_2020['Terceros_Totales'], df_2020['Porcentaje_Terceros'] = zip(*df_2020['Victorias'].apply(separar_victorias))\n",
        "df_2021['Terceros_Totales'], df_2021['Porcentaje_Terceros'] = zip(*df_2021['Victorias'].apply(separar_victorias))\n",
        "df_2022['Terceros_Totales'], df_2022['Porcentaje_Terceros'] = zip(*df_2022['Victorias'].apply(separar_victorias))\n",
        "df_2023['Terceros_Totales'], df_2023['Porcentaje_Terceros'] = zip(*df_2023['Victorias'].apply(separar_victorias))\n",
        "df_2024['Terceros_Totales'], df_2024['Porcentaje_Terceros'] = zip(*df_2024['Victorias'].apply(separar_victorias))\n",
        "\n",
        "# Cuartos\n",
        "df_2019['Cuartos_Totales'], df_2019['Porcentaje_Cuartos'] = zip(*df_2019['Victorias'].apply(separar_victorias))\n",
        "df_2020['Cuartos_Totales'], df_2020['Porcentaje_Cuartos'] = zip(*df_2020['Victorias'].apply(separar_victorias))\n",
        "df_2021['Cuartos_Totales'], df_2021['Porcentaje_Cuartos'] = zip(*df_2021['Victorias'].apply(separar_victorias))\n",
        "df_2022['Cuartos_Totales'], df_2022['Porcentaje_Cuartos'] = zip(*df_2022['Victorias'].apply(separar_victorias))\n",
        "df_2023['Cuartos_Totales'], df_2023['Porcentaje_Cuartos'] = zip(*df_2023['Victorias'].apply(separar_victorias))\n",
        "df_2024['Cuartos_Totales'], df_2024['Porcentaje_Cuartos'] = zip(*df_2024['Victorias'].apply(separar_victorias))\n",
        "\n",
        "# Verificar el resultado\n",
        "#print(df_2019[['Victorias', 'Victorias_Totales', 'Porcentaje_Victorias']])\n",
        "# Agrego la columna ano\n",
        "df_2019['ano'] = 2019\n",
        "df_2020['ano'] = 2020\n",
        "df_2021['ano'] = 2021\n",
        "df_2022['ano'] = 2022\n",
        "df_2023['ano'] = 2023\n",
        "df_2024['ano'] = 2024"
      ],
      "metadata": {
        "id": "7l-tqhcY_akI"
      },
      "execution_count": 15,
      "outputs": []
    },
    {
      "cell_type": "markdown",
      "source": [
        "Dataframe con TOP 10 de cada año"
      ],
      "metadata": {
        "id": "Kedqa1LnBSHC"
      }
    },
    {
      "cell_type": "code",
      "source": [
        "# Extraigo los top 10 de cada año\n",
        "df_2019_top10 = df_2019.head(10)\n",
        "df_2020_top10 = df_2020.head(10)\n",
        "df_2021_top10 = df_2021.head(10)\n",
        "df_2022_top10 = df_2022.head(10)\n",
        "df_2023_top10 = df_2023.head(10)\n",
        "df_2024_top10 = df_2024.head(10)\n",
        "\n",
        "df_total = pd.concat([df_2019_top10, df_2020_top10, df_2021_top10, df_2022_top10, df_2023_top10, df_2024_top10], ignore_index=True)"
      ],
      "metadata": {
        "id": "YMy_ai4k_rfg"
      },
      "execution_count": 16,
      "outputs": []
    },
    {
      "cell_type": "markdown",
      "source": [
        "Transformación de tipos de datos y limpieza"
      ],
      "metadata": {
        "id": "nEQVTiXYBVnp"
      }
    },
    {
      "cell_type": "code",
      "source": [
        "# Convertir la columna \"Carreras\" a int\n",
        "df_total['Carreras'] = df_total['Carreras'].astype(int)\n",
        "\n",
        "# Convertir la columna \"ano\" a int\n",
        "df_total['ano'] = df_total['ano'].astype(int)\n",
        "# Definir una función para limpiar la columna 'Euros'\n",
        "def limpiar_euros(valor):\n",
        "    # Eliminar todos los caracteres que no sean números o puntos\n",
        "    valor_limpio = re.sub(r'[^0-9,]', '', valor)\n",
        "    # Cambiar la coma decimal a un punto si es necesario\n",
        "    valor_limpio = valor_limpio.replace(',', '.')\n",
        "    # Convertir el valor limpio a float o int\n",
        "    try:\n",
        "        return float(valor_limpio)\n",
        "    except ValueError:\n",
        "        return None\n",
        "\n",
        "# Aplicar la función de limpieza a la columna 'Euros' y convertir a float\n",
        "df_total['Euros'] = df_total['Euros'].apply(limpiar_euros)\n",
        "\n",
        "# Ahora podemos convertir la columna a int (si los valores son todos enteros)\n",
        "df_total['Euros'] = df_total['Euros'].astype(float).astype(int)\n",
        "\n",
        "# Verificar el resultado\n",
        "#print(df_total['Euros'])\n",
        "#print(df_total[\"Euros\"].dtype)\n"
      ],
      "metadata": {
        "colab": {
          "base_uri": "https://localhost:8080/"
        },
        "id": "dC1nSBMc_vvb",
        "outputId": "6a64494f-49c7-418b-88be-b6cd0c52d1df"
      },
      "execution_count": 17,
      "outputs": [
        {
          "output_type": "stream",
          "name": "stdout",
          "text": [
            "   Pos           Nombre  Carreras    Victorias     Segundos     Terceros  \\\n",
            "0    1        V.Janacek       351  68 (19.37%)  63 (17.95%)  59 (16.81%)   \n",
            "1    2          R.Sousa       324  66 (20.37%)  53 (16.36%)  41 (12.65%)   \n",
            "2    3          B.Fayos       315  57 (18.10%)  54 (17.14%)  36 (11.43%)   \n",
            "3    4       J.Gelabert       325  41 (12.62%)   31 (9.54%)  42 (12.92%)   \n",
            "4    5     J.L.Martínez       156  26 (16.67%)  26 (16.67%)  23 (14.74%)   \n",
            "5    6        R.N.Valle       151   15 (9.93%)  17 (11.26%)  16 (10.60%)   \n",
            "6    7     F.Jiménez A.       172   14 (8.14%)   14 (8.14%)  20 (11.63%)   \n",
            "7    8      J.L.Borrego       128  13 (10.16%)  14 (10.94%)    9 (7.03%)   \n",
            "8    9   V.M.Valenzuela       150   12 (8.00%)   11 (7.33%)   14 (9.33%)   \n",
            "9   10      I.Melgarejo       137   10 (7.30%)  22 (16.06%)  19 (13.87%)   \n",
            "10   1        V.Janacek       272  53 (19.49%)  41 (15.07%)  46 (16.91%)   \n",
            "11   2          R.Sousa       244  47 (19.26%)  29 (11.89%)  32 (13.11%)   \n",
            "12   3          B.Fayos       224  40 (17.86%)  37 (16.52%)  25 (11.16%)   \n",
            "13   4      I.Melgarejo       212  29 (13.68%)  28 (13.21%)  25 (11.79%)   \n",
            "14   5       J.Gelabert       237   23 (9.70%)   22 (9.28%)  29 (12.24%)   \n",
            "15   6     J.L.Martínez       148  22 (14.86%)  24 (16.22%)  15 (10.14%)   \n",
            "16   7    M.E.Fernández       100  15 (15.00%)  14 (14.00%)  11 (11.00%)   \n",
            "17   8   V.M.Valenzuela       139  14 (10.07%)   11 (7.91%)  14 (10.07%)   \n",
            "18   9       J.Grosjean        79  12 (15.19%)  10 (12.66%)  16 (20.25%)   \n",
            "19  10      N.de Julián       172   10 (5.81%)   15 (8.72%)   14 (8.14%)   \n",
            "20   1          R.Sousa       290  57 (19.66%)  34 (11.72%)  54 (18.62%)   \n",
            "21   2        V.Janacek       262  46 (17.56%)  38 (14.50%)  44 (16.79%)   \n",
            "22   3          B.Fayos       231  43 (18.61%)  46 (19.91%)  32 (13.85%)   \n",
            "23   4       J.Gelabert       244  37 (15.16%)  40 (16.39%)   23 (9.43%)   \n",
            "24   5     J.L.Martínez       149  28 (18.79%)   11 (7.38%)  26 (17.45%)   \n",
            "25   6      V. Alonso V       100  23 (23.00%)  15 (15.00%)    6 (6.00%)   \n",
            "26   7    M.E.Fernández       150  20 (13.33%)  21 (14.00%)  20 (13.33%)   \n",
            "27   8       J.Zambudio       121  16 (13.22%)  15 (12.40%)  16 (13.22%)   \n",
            "28   9          R.Ramos       167   15 (8.98%)   14 (8.38%)  22 (13.17%)   \n",
            "29  10      J.L.Borrego       115  15 (13.04%)    9 (7.83%)   11 (9.57%)   \n",
            "30   1        V.Janacek       308  69 (22.40%)  48 (15.58%)  50 (16.23%)   \n",
            "31   2          R.Sousa       204  57 (27.94%)  37 (18.14%)  34 (16.67%)   \n",
            "32   3          B.Fayos       278  45 (16.19%)  55 (19.78%)  36 (12.95%)   \n",
            "33   4       J.Zambudio       237  33 (13.92%)  31 (13.08%)  34 (14.35%)   \n",
            "34   5       J.Gelabert       278   24 (8.63%)  48 (17.27%)  45 (16.19%)   \n",
            "35   6      V. Alonso V       164  22 (13.41%)   14 (8.54%)  18 (10.98%)   \n",
            "36   7        R.N.Valle       152  21 (13.82%)   14 (9.21%)  16 (10.53%)   \n",
            "37   8     J.L.Martínez       106  21 (19.81%)  14 (13.21%)  12 (11.32%)   \n",
            "38   9          R.Ramos       131  21 (16.03%)   13 (9.92%)   10 (7.63%)   \n",
            "39  10          C.Pérez       179  18 (10.06%)  24 (13.41%)  19 (10.61%)   \n",
            "40   1        V.Janacek       292  82 (28.08%)  56 (19.18%)  44 (15.07%)   \n",
            "41   2          R.Sousa       251  61 (24.30%)  47 (18.73%)  39 (15.54%)   \n",
            "42   3       J.Gelabert       302  38 (12.58%)  64 (21.19%)  42 (13.91%)   \n",
            "43   4       D.Sikorova       206  31 (15.05%)  30 (14.56%)   20 (9.71%)   \n",
            "44   5        R.N.Valle       195  31 (15.90%)  24 (12.31%)  34 (17.44%)   \n",
            "45   6          B.Fayos       161  24 (14.91%)  21 (13.04%)  30 (18.63%)   \n",
            "46   7      N.de Julián       198   18 (9.09%)  27 (13.64%)  25 (12.63%)   \n",
            "47   8          C.Pérez       189   14 (7.41%)   12 (6.35%)  23 (12.17%)   \n",
            "48   9    M.E.Fernández       116   10 (8.62%)    9 (7.76%)   11 (9.48%)   \n",
            "49  10  A.Gutiérrez Val        66  10 (15.15%)   7 (10.61%)  10 (15.15%)   \n",
            "50   1        V.Janacek       282  55 (19.50%)  43 (15.25%)  44 (15.60%)   \n",
            "51   2          R.Sousa       273  51 (18.68%)  61 (22.34%)  48 (17.58%)   \n",
            "52   3       J.Gelabert       261  39 (14.94%)  39 (14.94%)  34 (13.03%)   \n",
            "53   4        R.N.Valle       214  34 (15.89%)  35 (16.36%)  32 (14.95%)   \n",
            "54   5      N.de Julián       197  24 (12.18%)   17 (8.63%)   15 (7.61%)   \n",
            "55   6       D.Sikorova       192  22 (11.46%)  26 (13.54%)  31 (16.15%)   \n",
            "56   7          B.Fayos       147  19 (12.93%)  15 (10.20%)  19 (12.93%)   \n",
            "57   8          C.Pérez       128  15 (11.72%)  14 (10.94%)   10 (7.81%)   \n",
            "58   9    Srta.Relaño R        20  10 (50.00%)   3 (15.00%)   2 (10.00%)   \n",
            "59  10          R.Ramos        93    9 (9.68%)    8 (8.60%)  14 (15.05%)   \n",
            "\n",
            "        Cuartos    Euros  Victorias_Totales  Porcentaje_Victorias  \\\n",
            "0   49 (13.96%)   762810                 68                 19.37   \n",
            "1   48 (14.81%)   694070                 66                 20.37   \n",
            "2   33 (10.48%)   740900                 57                 18.10   \n",
            "3   40 (12.31%)   523325                 41                 12.62   \n",
            "4   17 (10.90%)   428225                 26                 16.67   \n",
            "5    13 (8.61%)   192210                 15                  9.93   \n",
            "6   26 (15.12%)   156650                 14                  8.14   \n",
            "7    11 (8.59%)   177900                 13                 10.16   \n",
            "8    11 (7.33%)   125450                 12                  8.00   \n",
            "9   16 (11.68%)   135650                 10                  7.30   \n",
            "10  30 (11.03%)   548405                 53                 19.49   \n",
            "11  39 (15.98%)   479330                 47                 19.26   \n",
            "12  25 (11.16%)   339580                 40                 17.86   \n",
            "13  27 (12.74%)   271500                 29                 13.68   \n",
            "14  33 (13.92%)   249925                 23                  9.70   \n",
            "15  16 (10.81%)   305040                 22                 14.86   \n",
            "16    9 (9.00%)   128950                 15                 15.00   \n",
            "17    9 (6.47%)    97000                 14                 10.07   \n",
            "18   9 (11.39%)   190260                 12                 15.19   \n",
            "19  18 (10.47%)   126650                 10                  5.81   \n",
            "20  30 (10.34%)   606660                 57                 19.66   \n",
            "21  32 (12.21%)   537650                 46                 17.56   \n",
            "22  38 (16.45%)   559250                 43                 18.61   \n",
            "23  31 (12.70%)   348650                 37                 15.16   \n",
            "24   14 (9.40%)   363800                 28                 18.79   \n",
            "25  15 (15.00%)   157580                 23                 23.00   \n",
            "26  21 (14.00%)   214000                 20                 13.33   \n",
            "27  15 (12.40%)   107000                 16                 13.22   \n",
            "28  19 (11.38%)   214880                 15                  8.98   \n",
            "29  12 (10.43%)   156000                 15                 13.04   \n",
            "30  38 (12.34%)   801940                 69                 22.40   \n",
            "31  23 (11.27%)   722544                 57                 27.94   \n",
            "32  43 (15.47%)   605350                 45                 16.19   \n",
            "33  28 (11.81%)   344850                 33                 13.92   \n",
            "34  34 (12.23%)   411500                 24                  8.63   \n",
            "35   13 (7.93%)   149025                 22                 13.41   \n",
            "36  17 (11.18%)   181600                 21                 13.82   \n",
            "37  12 (11.32%)   296800                 21                 19.81   \n",
            "38  20 (15.27%)   159099                 21                 16.03   \n",
            "39   13 (7.26%)   169350                 18                 10.06   \n",
            "40  34 (11.64%)  1001570                 82                 28.08   \n",
            "41  30 (11.95%)   680900                 61                 24.30   \n",
            "42  39 (12.91%)   669160                 38                 12.58   \n",
            "43  22 (10.68%)   261160                 31                 15.05   \n",
            "44  24 (12.31%)   407460                 31                 15.90   \n",
            "45  19 (11.80%)   282600                 24                 14.91   \n",
            "46   17 (8.59%)   232630                 18                  9.09   \n",
            "47  26 (13.76%)   140375                 14                  7.41   \n",
            "48  12 (10.34%)   144200                 10                  8.62   \n",
            "49    5 (7.58%)   198000                 10                 15.15   \n",
            "50  36 (12.77%)   770560                 55                 19.50   \n",
            "51   25 (9.16%)   670550                 51                 18.68   \n",
            "52  27 (10.34%)   467340                 39                 14.94   \n",
            "53  36 (16.82%)   523550                 34                 15.89   \n",
            "54  31 (15.74%)   235200                 24                 12.18   \n",
            "55  25 (13.02%)   252350                 22                 11.46   \n",
            "56  20 (13.61%)   222400                 19                 12.93   \n",
            "57  18 (14.06%)   120400                 15                 11.72   \n",
            "58   2 (10.00%)    51700                 10                 50.00   \n",
            "59    6 (6.45%)   114100                  9                  9.68   \n",
            "\n",
            "    Segundos_Totales  Porcentaje_Segundos  Terceros_Totales  \\\n",
            "0                 68                19.37                68   \n",
            "1                 66                20.37                66   \n",
            "2                 57                18.10                57   \n",
            "3                 41                12.62                41   \n",
            "4                 26                16.67                26   \n",
            "5                 15                 9.93                15   \n",
            "6                 14                 8.14                14   \n",
            "7                 13                10.16                13   \n",
            "8                 12                 8.00                12   \n",
            "9                 10                 7.30                10   \n",
            "10                53                19.49                53   \n",
            "11                47                19.26                47   \n",
            "12                40                17.86                40   \n",
            "13                29                13.68                29   \n",
            "14                23                 9.70                23   \n",
            "15                22                14.86                22   \n",
            "16                15                15.00                15   \n",
            "17                14                10.07                14   \n",
            "18                12                15.19                12   \n",
            "19                10                 5.81                10   \n",
            "20                57                19.66                57   \n",
            "21                46                17.56                46   \n",
            "22                43                18.61                43   \n",
            "23                37                15.16                37   \n",
            "24                28                18.79                28   \n",
            "25                23                23.00                23   \n",
            "26                20                13.33                20   \n",
            "27                16                13.22                16   \n",
            "28                15                 8.98                15   \n",
            "29                15                13.04                15   \n",
            "30                69                22.40                69   \n",
            "31                57                27.94                57   \n",
            "32                45                16.19                45   \n",
            "33                33                13.92                33   \n",
            "34                24                 8.63                24   \n",
            "35                22                13.41                22   \n",
            "36                21                13.82                21   \n",
            "37                21                19.81                21   \n",
            "38                21                16.03                21   \n",
            "39                18                10.06                18   \n",
            "40                82                28.08                82   \n",
            "41                61                24.30                61   \n",
            "42                38                12.58                38   \n",
            "43                31                15.05                31   \n",
            "44                31                15.90                31   \n",
            "45                24                14.91                24   \n",
            "46                18                 9.09                18   \n",
            "47                14                 7.41                14   \n",
            "48                10                 8.62                10   \n",
            "49                10                15.15                10   \n",
            "50                55                19.50                55   \n",
            "51                51                18.68                51   \n",
            "52                39                14.94                39   \n",
            "53                34                15.89                34   \n",
            "54                24                12.18                24   \n",
            "55                22                11.46                22   \n",
            "56                19                12.93                19   \n",
            "57                15                11.72                15   \n",
            "58                10                50.00                10   \n",
            "59                 9                 9.68                 9   \n",
            "\n",
            "    Porcentaje_Terceros  Cuartos_Totales  Porcentaje_Cuartos   ano  \n",
            "0                 19.37               68               19.37  2019  \n",
            "1                 20.37               66               20.37  2019  \n",
            "2                 18.10               57               18.10  2019  \n",
            "3                 12.62               41               12.62  2019  \n",
            "4                 16.67               26               16.67  2019  \n",
            "5                  9.93               15                9.93  2019  \n",
            "6                  8.14               14                8.14  2019  \n",
            "7                 10.16               13               10.16  2019  \n",
            "8                  8.00               12                8.00  2019  \n",
            "9                  7.30               10                7.30  2019  \n",
            "10                19.49               53               19.49  2020  \n",
            "11                19.26               47               19.26  2020  \n",
            "12                17.86               40               17.86  2020  \n",
            "13                13.68               29               13.68  2020  \n",
            "14                 9.70               23                9.70  2020  \n",
            "15                14.86               22               14.86  2020  \n",
            "16                15.00               15               15.00  2020  \n",
            "17                10.07               14               10.07  2020  \n",
            "18                15.19               12               15.19  2020  \n",
            "19                 5.81               10                5.81  2020  \n",
            "20                19.66               57               19.66  2021  \n",
            "21                17.56               46               17.56  2021  \n",
            "22                18.61               43               18.61  2021  \n",
            "23                15.16               37               15.16  2021  \n",
            "24                18.79               28               18.79  2021  \n",
            "25                23.00               23               23.00  2021  \n",
            "26                13.33               20               13.33  2021  \n",
            "27                13.22               16               13.22  2021  \n",
            "28                 8.98               15                8.98  2021  \n",
            "29                13.04               15               13.04  2021  \n",
            "30                22.40               69               22.40  2022  \n",
            "31                27.94               57               27.94  2022  \n",
            "32                16.19               45               16.19  2022  \n",
            "33                13.92               33               13.92  2022  \n",
            "34                 8.63               24                8.63  2022  \n",
            "35                13.41               22               13.41  2022  \n",
            "36                13.82               21               13.82  2022  \n",
            "37                19.81               21               19.81  2022  \n",
            "38                16.03               21               16.03  2022  \n",
            "39                10.06               18               10.06  2022  \n",
            "40                28.08               82               28.08  2023  \n",
            "41                24.30               61               24.30  2023  \n",
            "42                12.58               38               12.58  2023  \n",
            "43                15.05               31               15.05  2023  \n",
            "44                15.90               31               15.90  2023  \n",
            "45                14.91               24               14.91  2023  \n",
            "46                 9.09               18                9.09  2023  \n",
            "47                 7.41               14                7.41  2023  \n",
            "48                 8.62               10                8.62  2023  \n",
            "49                15.15               10               15.15  2023  \n",
            "50                19.50               55               19.50  2024  \n",
            "51                18.68               51               18.68  2024  \n",
            "52                14.94               39               14.94  2024  \n",
            "53                15.89               34               15.89  2024  \n",
            "54                12.18               24               12.18  2024  \n",
            "55                11.46               22               11.46  2024  \n",
            "56                12.93               19               12.93  2024  \n",
            "57                11.72               15               11.72  2024  \n",
            "58                50.00               10               50.00  2024  \n",
            "59                 9.68                9                9.68  2024  \n"
          ]
        }
      ]
    },
    {
      "cell_type": "markdown",
      "source": [
        "Dataframe completo (histórico 2019 - 2024)"
      ],
      "metadata": {
        "id": "8v6Fgsj8Bmf8"
      }
    },
    {
      "cell_type": "code",
      "source": [
        "#Dataframe completo (histórico 2019 - 2024)\n",
        "# Mostrar todas las filas\n",
        "pd.set_option('display.max_rows', None)\n",
        "\n",
        "# Mostrar todas las columnas\n",
        "pd.set_option('display.max_columns', None)\n",
        "\n",
        "print(df_total)"
      ],
      "metadata": {
        "id": "UC5dJtKkBfHk"
      },
      "execution_count": null,
      "outputs": []
    },
    {
      "cell_type": "markdown",
      "source": [
        "CAP 11 Machine Learning Actividad"
      ],
      "metadata": {
        "id": "nFNn9Yk6BpJk"
      }
    },
    {
      "cell_type": "code",
      "execution_count": 7,
      "metadata": {
        "id": "Dd25ODGV4niw"
      },
      "outputs": [],
      "source": [
        "import random\n",
        "from typing import TypeVar, List, Tuple\n",
        "\n",
        "X = TypeVar(\"X\")  # tipo genérico para representar un punto de datos\n",
        "\n",
        "def split_data(data: List[X], prob: float) -> Tuple[List[X], List[X]]:\n",
        "    \"\"\"Divide los datos en proporciones [prob, 1–prob].\"\"\"\n",
        "    data = data[:]  # Hace una copia rápida\n",
        "    random.shuffle(data)  # Mezcla la lista aleatoriamente\n",
        "    cut = int(len(data) * prob)  # Usa prob para determinar el corte\n",
        "    return data[:cut], data[cut:]  # Divide la lista en dos partes\n",
        "\n",
        "# Ejemplo de uso\n",
        "data = [n for n in range(1000)]\n",
        "train, test = split_data(data, 0.75)\n",
        "\n",
        "# Verificación de proporciones\n",
        "assert len(train) == 750\n",
        "assert len(test) == 250\n",
        "# Verificación de preservación de datos\n",
        "assert sorted(train + test) == data\n",
        "\n",
        "Y = TypeVar(\"Y\")  # tipo genérico para representar variables de salida\n",
        "\n",
        "def train_test_split(xs: List[X], ys: List[Y], test_pct: float) -> Tuple[List[X], List[X], List[Y], List[Y]]:\n",
        "    \"\"\"Divide los datos en conjuntos de entrenamiento y prueba.\"\"\"\n",
        "    idxs = [i for i in range(len(xs))]\n",
        "    train_idxs, test_idxs = split_data(idxs, 1 - test_pct)\n",
        "    return (\n",
        "        [xs[i] for i in train_idxs],  # x_train\n",
        "        [xs[i] for i in test_idxs],   # x_test\n",
        "        [ys[i] for i in train_idxs],  # y_train\n",
        "        [ys[i] for i in test_idxs]    # y_test\n",
        "    )\n",
        "\n"
      ]
    },
    {
      "cell_type": "code",
      "source": [
        "# Ejemplo de uso\n",
        "xs = [x for x in range(1000)]  # xs son 1 ... 1000\n",
        "ys = [2 * x for x in xs]       # cada y_i es el doble de x_i\n",
        "x_train, x_test, y_train, y_test = train_test_split(xs, ys, 0.25)\n",
        "\n",
        "# Verificación de proporciones\n",
        "assert len(x_train) == len(y_train) == 750\n",
        "assert len(x_test) == len(y_test) == 250\n",
        "# Verificación de emparejamiento de datos\n",
        "assert all(y == 2 * x for x, y in zip(x_train, y_train))\n",
        "assert all(y == 2 * x for x, y in zip(x_test, y_test))\n",
        "\n",
        "#####Andrea grego esto porque sino fallaba\n",
        "# Simulador de un modelo de prueba\n",
        "class SomeKindOfModel:\n",
        "    def train(self, x_train, y_train):\n",
        "        pass  # Simula el entrenamiento sin hacer nada\n",
        "\n",
        "    def test(self, x_test, y_test):\n",
        "        return 0.95  # Retorna un valor de precisión simulado\n",
        "########\n",
        "\n",
        "# Ejemplo de modelo hipotético\n",
        "model = SomeKindOfModel()  # Define tu modelo aquí\n",
        "x_train, x_test, y_train, y_test = train_test_split(xs, ys, 0.33)\n",
        "model.train(x_train, y_train)\n",
        "performance = model.test(x_test, y_test)\n",
        "\n",
        "# Función para calcular precisión\n",
        "def accuracy(tp: int, fp: int, fn: int, tn: int) -> float:\n",
        "    correct = tp + tn\n",
        "    total = tp + fp + fn + tn\n",
        "    return correct / total\n",
        "\n",
        "assert accuracy(70, 4930, 13930, 981070) == 0.98114\n",
        "\n",
        "# Función para calcular precisión\n",
        "def precision(tp: int, fp: int, fn: int, tn: int) -> float:\n",
        "    return tp / (tp + fp)\n",
        "\n",
        "assert precision(70, 4930, 13930, 981070) == 0.014\n",
        "\n",
        "# Función para calcular recall\n",
        "def recall(tp: int, fp: int, fn: int, tn: int) -> float:\n",
        "    return tp / (tp + fn)\n",
        "\n",
        "assert recall(70, 4930, 13930, 981070) == 0.005\n",
        "\n",
        "# Función para calcular F1 score\n",
        "def f1_score(tp: int, fp: int, fn: int, tn: int) -> float:\n",
        "    p = precision(tp, fp, fn, tn)\n",
        "    r = recall(tp, fp, fn, tn)\n",
        "    return 2 * p * r / (p + r)\n"
      ],
      "metadata": {
        "id": "q0YL1d8x9HsK"
      },
      "execution_count": 10,
      "outputs": []
    },
    {
      "cell_type": "markdown",
      "source": [
        "Ploteo con los datos del ejercicio"
      ],
      "metadata": {
        "id": "XNWt-UshBxg6"
      }
    },
    {
      "cell_type": "code",
      "source": [
        "import matplotlib.pyplot as plt\n",
        "\n",
        "# Supongamos que tienes `x_train`, `y_train`, `x_test`, `y_test` ya divididos\n",
        "# y que deseas graficarlos para visualizarlos\n",
        "\n",
        "def plot_data(x_train, y_train, x_test, y_test):\n",
        "    plt.figure(figsize=(10, 6))\n",
        "    # Gráfica de datos de entrenamiento\n",
        "    plt.scatter(x_train, y_train, color='blue', label='Entrenamiento')\n",
        "    # Gráfica de datos de prueba\n",
        "    plt.scatter(x_test, y_test, color='orange', label='Prueba')\n",
        "\n",
        "    plt.xlabel(\"X values\")\n",
        "    plt.ylabel(\"Y values\")\n",
        "    plt.title(\"División de Datos de Entrenamiento y Prueba\")\n",
        "    plt.legend()\n",
        "    plt.show()\n",
        "\n",
        "# Llama a la función de graficado\n",
        "plot_data(x_train, y_train, x_test, y_test)\n"
      ],
      "metadata": {
        "colab": {
          "base_uri": "https://localhost:8080/",
          "height": 565
        },
        "id": "iwX79MBA-Bqp",
        "outputId": "433189bf-afff-423b-ee89-39a2f6063f42"
      },
      "execution_count": 11,
      "outputs": [
        {
          "output_type": "display_data",
          "data": {
            "text/plain": [
              "<Figure size 1000x600 with 1 Axes>"
            ],
            "image/png": "[encoded data removed]"
          },
          "metadata": {}
        }
      ]
    },
    {
      "cell_type": "markdown",
      "source": [
        "Ploteo con los datos de los jinetes"
      ],
      "metadata": {
        "id": "FoWzn2BTB2oA"
      }
    },
    {
      "cell_type": "code",
      "source": [
        "# Paso 1: Selección de variables de entrada y salida\n",
        "xs = df_total[['Carreras', 'Victorias_Totales', 'Segundos_Totales']].values.tolist()  # Columnas de entrada\n",
        "ys = df_total['Euros'].tolist()  # Columna objetivo, por ejemplo, 'Euros'\n",
        "\n",
        "# Paso 2: División de los datos\n",
        "x_train, x_test, y_train, y_test = train_test_split(xs, ys, 0.33)\n",
        "\n",
        "# Paso 3: Entrenamiento y evaluación\n",
        "model = SomeKindOfModel()  # Modelo simulado o un modelo real\n",
        "model.train(x_train, y_train)\n",
        "performance = model.test(x_test, y_test)\n",
        "\n",
        "print(f\"Precisión simulada del modelo: {performance}\")\n",
        "\n",
        "# Paso 4: Graficado (opcional)\n",
        "plot_data([x[0] for x in x_train], y_train, [x[0] for x in x_test], y_test)\n"
      ],
      "metadata": {
        "colab": {
          "base_uri": "https://localhost:8080/",
          "height": 582
        },
        "id": "qPEX3wyV_8jK",
        "outputId": "cc9aa2e8-b7dd-413d-d2d2-48c65b036255"
      },
      "execution_count": 18,
      "outputs": [
        {
          "output_type": "stream",
          "name": "stdout",
          "text": [
            "Precisión simulada del modelo: 0.95\n"
          ]
        },
        {
          "output_type": "display_data",
          "data": {
            "text/plain": [
              "<Figure size 1000x600 with 1 Axes>"
            ],
            "image/png": "[encoded data removed]"
          },
          "metadata": {}
        }
      ]
    }
  ]
}